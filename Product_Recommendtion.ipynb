{
 "cells": [
  {
   "cell_type": "markdown",
   "id": "d85d2858",
   "metadata": {},
   "source": [
    "# E-commerce Product Recommendation System"
   ]
  },
  {
   "cell_type": "markdown",
   "id": "4dba66b7",
   "metadata": {},
   "source": [
    "\n",
    "### Introduction\n",
    "This notebook demonstrates the creation of a **Product Recommendation System** for an e-commerce dataset. It utilizes collaborative filtering techniques to recommend products based on user behavior and ratings.\n",
    "\n",
    "#### Objectives:\n",
    "1. **Understand the data** through visualizations and exploration.\n",
    "2. **Create a User-Item Matrix** to capture user preferences.\n",
    "3. **Implement Collaborative Filtering** using cosine similarity.\n",
    "4. **Provide product recommendations** with an interactive function.\n",
    "    "
   ]
  },
  {
   "cell_type": "markdown",
   "id": "0075d940",
   "metadata": {},
   "source": [
    "\n",
    "### Step 1: Load and Explore the Dataset\n",
    "We begin by importing the dataset and exploring its structure to understand the available features.\n",
    "    "
   ]
  },
  {
   "cell_type": "markdown",
   "id": "e18e6232",
   "metadata": {},
   "source": [
    "\n",
    "### Step 2: Data Exploration\n",
    "To gain insights into the dataset, we visualize the most purchased products and the distribution of ratings.\n",
    "    "
   ]
  },
  {
   "cell_type": "markdown",
   "id": "3b9d46e1",
   "metadata": {},
   "source": [
    "\n",
    "### Step 3: Build the Recommendation System\n",
    "Here, we construct a **User-Item Matrix** and calculate the similarity between products using **cosine similarity**. This similarity is used to recommend products.\n",
    "    "
   ]
  },
  {
   "cell_type": "markdown",
   "id": "35382e2b",
   "metadata": {},
   "source": [
    "\n",
    "### Step 4: Product Recommendations\n",
    "We use the similarity matrix to recommend products for a given item. The recommendations are visualized for better understanding.\n",
    "    "
   ]
  },
  {
   "cell_type": "markdown",
   "id": "3ac7d1f6",
   "metadata": {},
   "source": [
    "\n",
    "### Conclusion\n",
    "This notebook showcases the development of a simple yet effective recommendation system using collaborative filtering. It can be extended with advanced techniques such as matrix factorization or deep learning for more personalized recommendations.\n",
    "    "
   ]
  },
  {
   "cell_type": "code",
   "execution_count": null,
   "id": "1f5d7db1-1c48-4754-a571-a18c764e4268",
   "metadata": {
    "tags": []
   },
   "outputs": [],
   "source": [
    "# Import Libraries\n",
    "import pandas as pd\n",
    "import matplotlib.pyplot as plt\n",
    "import seaborn as sns\n",
    "\n",
    "# Load the dataset\n",
    "file_path = \"/Users/omsapkar/Downloads/ecommerce_data_with_city_and_product.csv\"\n",
    "df = pd.read_csv(file_path)\n",
    "\n",
    "# Display the first few rows\n",
    "print(df.head())\n",
    "\n",
    "# Check dataset summary\n",
    "print(df.info())"
   ]
  },
  {
   "cell_type": "code",
   "execution_count": null,
   "id": "6bcc7fd1-4b25-4435-85f3-1c0e80004229",
   "metadata": {
    "tags": []
   },
   "outputs": [],
   "source": [
    "# Top 10 Products\n",
    "product_counts = df['Product_Name'].value_counts().head(10)\n",
    "\n",
    "# Plot the product distribution\n",
    "plt.figure(figsize=(10, 6))\n",
    "sns.barplot(x=product_counts.values, y=product_counts.index, palette='viridis')\n",
    "plt.title(\"Top 10 Most Purchased Products\", fontsize=14)\n",
    "plt.xlabel(\"Number of Purchases\", fontsize=12)\n",
    "plt.ylabel(\"Product Name\", fontsize=12)\n",
    "plt.show()"
   ]
  },
  {
   "cell_type": "code",
   "execution_count": null,
   "id": "375f38b1",
   "metadata": {},
   "outputs": [],
   "source": [
    "\n",
    "# Import Libraries\n",
    "import pandas as pd\n",
    "import numpy as np\n",
    "import matplotlib.pyplot as plt\n",
    "import seaborn as sns\n",
    "from sklearn.metrics.pairwise import cosine_similarity\n",
    "\n",
    "# Load the dataset\n",
    "file_path = \"ecommerce_data_with_city_and_product.csv\"\n",
    "df = pd.read_csv(file_path)\n",
    "\n",
    "# Display the first few rows\n",
    "print(df.head())\n",
    "    "
   ]
  },
  {
   "cell_type": "code",
   "execution_count": null,
   "id": "74aebaa7",
   "metadata": {},
   "outputs": [],
   "source": [
    "\n",
    "# Data Exploration\n",
    "# Top 10 Products\n",
    "product_counts = df['Product_Name'].value_counts().head(10)\n",
    "\n",
    "# Plot the product distribution\n",
    "plt.figure(figsize=(10, 6))\n",
    "sns.barplot(x=product_counts.values, y=product_counts.index, palette='viridis')\n",
    "plt.title(\"Top 10 Most Purchased Products\", fontsize=14)\n",
    "plt.xlabel(\"Number of Purchases\", fontsize=12)\n",
    "plt.ylabel(\"Product Name\", fontsize=12)\n",
    "plt.show()\n",
    "    "
   ]
  },
  {
   "cell_type": "code",
   "execution_count": null,
   "id": "9b7730bc",
   "metadata": {},
   "outputs": [],
   "source": [
    "\n",
    "# Create User-Item Matrix\n",
    "user_item_matrix = df.pivot_table(index='Customer_ID', columns='Product_Name', values='Rating')\n",
    "user_item_matrix.fillna(0, inplace=True)\n",
    "\n",
    "# Compute cosine similarity between products\n",
    "product_similarity = cosine_similarity(user_item_matrix.T)\n",
    "product_similarity_df = pd.DataFrame(product_similarity, \n",
    "                                      index=user_item_matrix.columns, \n",
    "                                      columns=user_item_matrix.columns)\n",
    "    "
   ]
  },
  {
   "cell_type": "code",
   "execution_count": null,
   "id": "9e13d15b",
   "metadata": {},
   "outputs": [],
   "source": [
    "\n",
    "# Recommendation function\n",
    "def recommend_products(product, n=5):\n",
    "    similar_products = product_similarity_df[product].sort_values(ascending=False)\n",
    "    return similar_products.iloc[1:n+1]\n",
    "\n",
    "# Example recommendation\n",
    "recommended = recommend_products(\"Smartphone\", n=5)\n",
    "print(\"Recommended Products for 'Smartphone':\")\n",
    "print(recommended)\n",
    "    "
   ]
  },
  {
   "cell_type": "code",
   "execution_count": null,
   "id": "b46ba279",
   "metadata": {},
   "outputs": [],
   "source": [
    "\n",
    "# Visualize recommendations\n",
    "plt.figure(figsize=(8, 5))\n",
    "sns.barplot(x=recommended.values, y=recommended.index, palette=\"coolwarm\")\n",
    "plt.title(f\"Top 5 Products Similar to 'Smartphone'\", fontsize=14)\n",
    "plt.xlabel(\"Similarity Score\", fontsize=12)\n",
    "plt.ylabel(\"Product Name\", fontsize=12)\n",
    "plt.show()\n",
    "    "
   ]
  },
  {
   "cell_type": "markdown",
   "id": "b46405b9",
   "metadata": {},
   "source": [
    "\n",
    "### Requirements\n",
    "To run this notebook, ensure you have the following libraries installed:\n",
    "- **pandas**\n",
    "- **numpy**\n",
    "- **matplotlib**\n",
    "- **seaborn**\n",
    "- **scikit-learn**\n",
    "\n",
    "Install them using:\n",
    "```bash\n",
    "pip install pandas numpy matplotlib seaborn scikit-learn\n",
    "```\n",
    "    "
   ]
  },
  {
   "cell_type": "markdown",
   "id": "6bf4e78b",
   "metadata": {},
   "source": [
    "\n",
    "### Step 5: Summary and Conclusion\n",
    "This recommendation system provides insights into user preferences by leveraging collaborative filtering. It is suitable for e-commerce platforms to enhance user engagement and sales.\n",
    "\n",
    "#### Key Features:\n",
    "- Visualization of popular products and rating trends.\n",
    "- Use of cosine similarity to identify similar products.\n",
    "- Interactive recommendation function for a given product.\n",
    "\n",
    "#### Next Steps:\n",
    "- Implement advanced techniques like matrix factorization or deep learning models for improved personalization.\n",
    "- Integrate the system into a web or mobile application for real-time recommendations.\n",
    "    "
   ]
  }
 ],
 "metadata": {
  "kernelspec": {
   "display_name": "Python 3 (ipykernel)",
   "language": "python",
   "name": "python3"
  },
  "language_info": {
   "codemirror_mode": {
    "name": "ipython",
    "version": 3
   },
   "file_extension": ".py",
   "mimetype": "text/x-python",
   "name": "python",
   "nbconvert_exporter": "python",
   "pygments_lexer": "ipython3",
   "version": "3.11.4"
  }
 },
 "nbformat": 4,
 "nbformat_minor": 5
}
